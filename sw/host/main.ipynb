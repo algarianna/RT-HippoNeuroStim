{
 "cells": [
  {
   "cell_type": "markdown",
   "metadata": {},
   "source": [
    "# Generate configuration file\n",
    "\n",
    "Generate hardware and software configuration files\n",
    "* **Hardware configuration file**: configure the hardware (neurons, synapses, ion channels, monitoring)\n",
    "* **Software configuration file**: configure the C++ application (monitoring, stimulation, control)"
   ]
  },
  {
   "cell_type": "code",
   "execution_count": 60,
   "metadata": {},
   "outputs": [
    {
     "name": "stdout",
     "output_type": "stream",
     "text": [
      "Software configuration file saved at: ./swconfig_customCA1_oldnocon.json\n",
      "Hardware configuration file saved at: ./hwconfig_customCA1_oldnocon.txt\n"
     ]
    }
   ],
   "source": [
    "%reload_ext autoreload\n",
    "%autoreload 2\n",
    "from configuration.gen_config import gen_config, NetwConfParams\n",
    "\n",
    "# Configuration file \n",
    "CONFIG_NAME = \"customCA1_oldnocon\"\n",
    "SAVE_PATH   = \"./\"\n",
    "\n",
    "# Stimulation\n",
    "netw_conf = NetwConfParams()\n",
    "netw_conf.model                     = \"custom\" # \"custom\", \"single\", \"connectoid\"\n",
    "netw_conf.emulation_time_s          = 5       # Set emulation time (s)\n",
    "netw_conf.en_step_stim              = False     # Enable stimulation step\n",
    "netw_conf.step_stim_delay_ms        = 0         # Stimulation step delay (ms)\n",
    "netw_conf.step_stim_duration_ms     = 0         # Stimulation duration (ms)\n",
    "netw_conf.local_save_path           = \"/savedconfig\" # Save path on target\n",
    "netw_conf.en_randomize_hh_params    = True  # Randomizing HH parameters for all neurons\n",
    "netw_conf.val_randomize_hh_params   = 0.10  # Randomization coefficient (0.1 -> 10%)\n",
    "netw_conf.org_wsyninh               = 1.0   # Organoid synaptic weight inhibition\n",
    "netw_conf.org_wsynexc               = 0.22  # Organoid synaptic weight excitatory\n",
    "netw_conf.org_pcon_in               = 0.08  # Organoid max connection probability internal\n",
    "netw_conf.org_pcon_out              = 0.02  # Organoid max connectiosn probability external\n",
    "netw_conf.org_wsyn_in               = 1.0   # Organoid synaptic weight internal\n",
    "netw_conf.org_wsyn_out              = 1.0   # Organoid synaptic weight external\n",
    "netw_conf.org_inh_ratio             = 0.2   # Organoid inhibitory ratio (0.2->20% of inh)\n",
    "\n",
    "[hwconfig, swconfig] = gen_config(CONFIG_NAME, netw_conf, SAVE_PATH)"
   ]
  },
  {
   "cell_type": "markdown",
   "metadata": {},
   "source": [
    "# Emulate configuration\n",
    "\n",
    "* Emulate using the configuration files generated"
   ]
  },
  {
   "cell_type": "code",
   "execution_count": null,
   "metadata": {},
   "outputs": [],
   "source": [
    "import numpy as np\n",
    "from emulation.emulate_config import emulate_config\n",
    "\n",
    "NEURON_LIST   = [i for i in range(4)]\n",
    "FPGA_EMU      = False\n",
    "STORE_CONTEXT = False\n",
    "\n",
    "exact_emu = emulate_config(hwconfig, swconfig, NEURON_LIST, False, STORE_CONTEXT, dtype=np.float64)\n",
    "\n",
    "if FPGA_EMU:\n",
    "    fpga_emu = emulate_config(hwconfig, swconfig, NEURON_LIST, True,  STORE_CONTEXT, dtype=np.float32)"
   ]
  },
  {
   "cell_type": "markdown",
   "metadata": {},
   "source": [
    "* Plot emulation"
   ]
  },
  {
   "cell_type": "code",
   "execution_count": null,
   "metadata": {},
   "outputs": [],
   "source": [
    "%matplotlib qt\n",
    "from emulation.plots.SnnPlotter import *\n",
    "\n",
    "NEURON_TO_DISPLAY       = 0\n",
    "NEURON_LIST_TO_DISPLAY  = [0,1,2,3]\n",
    "\n",
    "exact_plotter = SnnPlotter(exact_emu)\n",
    "# exact_plotter.plotIonRates()\n",
    "# exact_plotter.plotSynRates()\n",
    "# exact_plotter.plotIonChanStates(NEURON_TO_DISPLAY)\n",
    "# exact_plotter.plotCurrents(NEURON_TO_DISPLAY)\n",
    "exact_plotter.plotVmem(NEURON_LIST_TO_DISPLAY, plot_type='all')\n",
    "# exact_plotter.plotVmem(NEURON_LIST_TO_DISPLAY, plot_type='comp')\n",
    "# exact_plotter.plotVmem(NEURON_LIST_TO_DISPLAY, plot_type='subplot')\n",
    "# exact_plotter.plotRaster()"
   ]
  },
  {
   "cell_type": "markdown",
   "metadata": {},
   "source": [
    "# Monitoring\n",
    "\n",
    "* Monitor spikes"
   ]
  },
  {
   "cell_type": "code",
   "execution_count": null,
   "metadata": {},
   "outputs": [],
   "source": [
    "import monitoring.spkmon.main as spike_monitor\n",
    "spike_monitor.main()"
   ]
  },
  {
   "cell_type": "markdown",
   "metadata": {},
   "source": [
    "* Monitor waves"
   ]
  },
  {
   "cell_type": "code",
   "execution_count": null,
   "metadata": {},
   "outputs": [],
   "source": [
    "# Monitor one wave with GUI\n",
    "# import monitoring.vmon.main as vmem_monitor\n",
    "# vmem_monitor.main()\n",
    "\n",
    "# Monitor multiple waves\n",
    "from monitoring.waves.waves_mon import waves_mon\n",
    "\n",
    "TARGET_IP           = \"192.168.137.16\"\n",
    "TARGET_PORT         = \"5558\"\n",
    "NB_CHANNELS         = 16\n",
    "NB_DT_PER_TRANSFER  = 190\n",
    "WINDOW_SIZE_S       = 1\n",
    "REFRESH_TIME_S      = 0.1\n",
    "\n",
    "waves_mon(f\"tcp//{TARGET_IP}:{TARGET_PORT}\", NB_CHANNELS, NB_DT_PER_TRANSFER, WINDOW_SIZE_S, REFRESH_TIME_S)"
   ]
  },
  {
   "cell_type": "markdown",
   "metadata": {},
   "source": [
    "* External stimulation"
   ]
  },
  {
   "cell_type": "code",
   "execution_count": null,
   "metadata": {},
   "outputs": [],
   "source": [
    "import monitoring.ext_stim.main as external_stim\n",
    "external_stim.main()"
   ]
  },
  {
   "cell_type": "markdown",
   "metadata": {},
   "source": [
    "# Analysis\n",
    "\n",
    "* Raster"
   ]
  },
  {
   "cell_type": "code",
   "execution_count": 33,
   "metadata": {},
   "outputs": [
    {
     "ename": "KeyError",
     "evalue": "'time'",
     "output_type": "error",
     "traceback": [
      "\u001b[1;31m---------------------------------------------------------------------------\u001b[0m",
      "\u001b[1;31mKeyError\u001b[0m                                  Traceback (most recent call last)",
      "File \u001b[1;32mc:\\Users\\Arianna\\.conda\\envs\\bioemus\\Lib\\site-packages\\pandas\\core\\indexes\\base.py:3805\u001b[0m, in \u001b[0;36mIndex.get_loc\u001b[1;34m(self, key)\u001b[0m\n\u001b[0;32m   3804\u001b[0m \u001b[38;5;28;01mtry\u001b[39;00m:\n\u001b[1;32m-> 3805\u001b[0m     \u001b[38;5;28;01mreturn\u001b[39;00m \u001b[38;5;28;43mself\u001b[39;49m\u001b[38;5;241;43m.\u001b[39;49m\u001b[43m_engine\u001b[49m\u001b[38;5;241;43m.\u001b[39;49m\u001b[43mget_loc\u001b[49m\u001b[43m(\u001b[49m\u001b[43mcasted_key\u001b[49m\u001b[43m)\u001b[49m\n\u001b[0;32m   3806\u001b[0m \u001b[38;5;28;01mexcept\u001b[39;00m \u001b[38;5;167;01mKeyError\u001b[39;00m \u001b[38;5;28;01mas\u001b[39;00m err:\n",
      "File \u001b[1;32mindex.pyx:167\u001b[0m, in \u001b[0;36mpandas._libs.index.IndexEngine.get_loc\u001b[1;34m()\u001b[0m\n",
      "File \u001b[1;32mindex.pyx:196\u001b[0m, in \u001b[0;36mpandas._libs.index.IndexEngine.get_loc\u001b[1;34m()\u001b[0m\n",
      "File \u001b[1;32mpandas\\\\_libs\\\\hashtable_class_helper.pxi:7081\u001b[0m, in \u001b[0;36mpandas._libs.hashtable.PyObjectHashTable.get_item\u001b[1;34m()\u001b[0m\n",
      "File \u001b[1;32mpandas\\\\_libs\\\\hashtable_class_helper.pxi:7089\u001b[0m, in \u001b[0;36mpandas._libs.hashtable.PyObjectHashTable.get_item\u001b[1;34m()\u001b[0m\n",
      "\u001b[1;31mKeyError\u001b[0m: 'time'",
      "\nThe above exception was the direct cause of the following exception:\n",
      "\u001b[1;31mKeyError\u001b[0m                                  Traceback (most recent call last)",
      "Cell \u001b[1;32mIn[33], line 19\u001b[0m\n\u001b[0;32m     17\u001b[0m delimiter \u001b[38;5;241m=\u001b[39m \u001b[38;5;124m\"\u001b[39m\u001b[38;5;124m;\u001b[39m\u001b[38;5;124m\"\u001b[39m\n\u001b[0;32m     18\u001b[0m spikes  \u001b[38;5;241m=\u001b[39m pd\u001b[38;5;241m.\u001b[39mread_csv(path, sep\u001b[38;5;241m=\u001b[39mdelimiter)\n\u001b[1;32m---> 19\u001b[0m x\u001b[38;5;241m.\u001b[39mappend(\u001b[43mspikes\u001b[49m\u001b[43m[\u001b[49m\u001b[38;5;124;43m'\u001b[39;49m\u001b[38;5;124;43mtime\u001b[39;49m\u001b[38;5;124;43m'\u001b[39;49m\u001b[43m]\u001b[49m)\n\u001b[0;32m     20\u001b[0m y\u001b[38;5;241m.\u001b[39mappend(spikes[\u001b[38;5;124m'\u001b[39m\u001b[38;5;124mneuron_id\u001b[39m\u001b[38;5;124m'\u001b[39m])    \n\u001b[0;32m     22\u001b[0m fig \u001b[38;5;241m=\u001b[39m plt\u001b[38;5;241m.\u001b[39mfigure(\u001b[38;5;124m\"\u001b[39m\u001b[38;5;124mRaster plot\u001b[39m\u001b[38;5;124m\"\u001b[39m)\n",
      "File \u001b[1;32mc:\\Users\\Arianna\\.conda\\envs\\bioemus\\Lib\\site-packages\\pandas\\core\\frame.py:4102\u001b[0m, in \u001b[0;36mDataFrame.__getitem__\u001b[1;34m(self, key)\u001b[0m\n\u001b[0;32m   4100\u001b[0m \u001b[38;5;28;01mif\u001b[39;00m \u001b[38;5;28mself\u001b[39m\u001b[38;5;241m.\u001b[39mcolumns\u001b[38;5;241m.\u001b[39mnlevels \u001b[38;5;241m>\u001b[39m \u001b[38;5;241m1\u001b[39m:\n\u001b[0;32m   4101\u001b[0m     \u001b[38;5;28;01mreturn\u001b[39;00m \u001b[38;5;28mself\u001b[39m\u001b[38;5;241m.\u001b[39m_getitem_multilevel(key)\n\u001b[1;32m-> 4102\u001b[0m indexer \u001b[38;5;241m=\u001b[39m \u001b[38;5;28;43mself\u001b[39;49m\u001b[38;5;241;43m.\u001b[39;49m\u001b[43mcolumns\u001b[49m\u001b[38;5;241;43m.\u001b[39;49m\u001b[43mget_loc\u001b[49m\u001b[43m(\u001b[49m\u001b[43mkey\u001b[49m\u001b[43m)\u001b[49m\n\u001b[0;32m   4103\u001b[0m \u001b[38;5;28;01mif\u001b[39;00m is_integer(indexer):\n\u001b[0;32m   4104\u001b[0m     indexer \u001b[38;5;241m=\u001b[39m [indexer]\n",
      "File \u001b[1;32mc:\\Users\\Arianna\\.conda\\envs\\bioemus\\Lib\\site-packages\\pandas\\core\\indexes\\base.py:3812\u001b[0m, in \u001b[0;36mIndex.get_loc\u001b[1;34m(self, key)\u001b[0m\n\u001b[0;32m   3807\u001b[0m     \u001b[38;5;28;01mif\u001b[39;00m \u001b[38;5;28misinstance\u001b[39m(casted_key, \u001b[38;5;28mslice\u001b[39m) \u001b[38;5;129;01mor\u001b[39;00m (\n\u001b[0;32m   3808\u001b[0m         \u001b[38;5;28misinstance\u001b[39m(casted_key, abc\u001b[38;5;241m.\u001b[39mIterable)\n\u001b[0;32m   3809\u001b[0m         \u001b[38;5;129;01mand\u001b[39;00m \u001b[38;5;28many\u001b[39m(\u001b[38;5;28misinstance\u001b[39m(x, \u001b[38;5;28mslice\u001b[39m) \u001b[38;5;28;01mfor\u001b[39;00m x \u001b[38;5;129;01min\u001b[39;00m casted_key)\n\u001b[0;32m   3810\u001b[0m     ):\n\u001b[0;32m   3811\u001b[0m         \u001b[38;5;28;01mraise\u001b[39;00m InvalidIndexError(key)\n\u001b[1;32m-> 3812\u001b[0m     \u001b[38;5;28;01mraise\u001b[39;00m \u001b[38;5;167;01mKeyError\u001b[39;00m(key) \u001b[38;5;28;01mfrom\u001b[39;00m \u001b[38;5;21;01merr\u001b[39;00m\n\u001b[0;32m   3813\u001b[0m \u001b[38;5;28;01mexcept\u001b[39;00m \u001b[38;5;167;01mTypeError\u001b[39;00m:\n\u001b[0;32m   3814\u001b[0m     \u001b[38;5;66;03m# If we have a listlike key, _check_indexing_error will raise\u001b[39;00m\n\u001b[0;32m   3815\u001b[0m     \u001b[38;5;66;03m#  InvalidIndexError. Otherwise we fall through and re-raise\u001b[39;00m\n\u001b[0;32m   3816\u001b[0m     \u001b[38;5;66;03m#  the TypeError.\u001b[39;00m\n\u001b[0;32m   3817\u001b[0m     \u001b[38;5;28mself\u001b[39m\u001b[38;5;241m.\u001b[39m_check_indexing_error(key)\n",
      "\u001b[1;31mKeyError\u001b[0m: 'time'"
     ]
    }
   ],
   "source": [
    "%matplotlib qt\n",
    "from analysis.draw_raster import draw_raster\n",
    "from analysis.extract_spikes import extract_spikes\n",
    "from analysis.spike_analysis import spike_analysis\n",
    "from analysis.burst_analysis import burst_analysis\n",
    "import pandas as pd\n",
    "\n",
    "path        = \"raster.csv\"\n",
    "#RASTER_LIST    = [f\"{1}\"] #[f\"single{i}\" for i in range(1,4+1)]\n",
    "REC_DURATION_S = 30\n",
    "SAVE_FIGS      = True\n",
    "\n",
    "# draw_raster(DIRPATH, SAVE_FIGS)\n",
    "\n",
    "x = []\n",
    "y = []\n",
    "delimiter = \";\"\n",
    "spikes  = pd.read_csv(path, sep=delimiter)\n",
    "x.append(spikes['time'])\n",
    "y.append(spikes['neuron_id'])    \n",
    "\n",
    "fig = plt.figure(\"Raster plot\")\n",
    "\n",
    "FONTSIZE = 12\n",
    "plt.subplot(1,1,1)\n",
    "plt.scatter(x*1e-3, y, s=1, marker='.', color='black')\n",
    "plt.ylabel('Neuron index', fontsize=FONTSIZE)\n",
    "plt.xlabel('Time (s)', fontsize=FONTSIZE)\n",
    "plt.yticks(fontsize=FONTSIZE)\n",
    "plt.xticks(fontsize=FONTSIZE)\n",
    "plt.show()\n",
    "\n",
    "# tstamp_list = extract_spikes(DIRPATH, RASTER_LIST, REC_DURATION_S)\n",
    "# spike_analysis(RASTER_LIST, tstamp_list, REC_DURATION_S)\n",
    "# burst_analysis(RASTER_LIST, tstamp_list)"
   ]
  },
  {
   "cell_type": "markdown",
   "metadata": {},
   "source": [
    "* Waveforms"
   ]
  },
  {
   "cell_type": "code",
   "execution_count": null,
   "metadata": {},
   "outputs": [],
   "source": [
    "%matplotlib qt\n",
    "from analysis.draw_waves import draw_waves\n",
    "\n",
    "DIRPATH        = \"data/\"\n",
    "WAVE_LIST      = [\"test1\", \"test2\"]\n",
    "PLOT_TIME_S    = 0.1\n",
    "SEL_NRN        = [i for i in range(2)] # up to MAX_NB_NEURONS_WAVES_MON\n",
    "SAVE_FIGS      = False\n",
    "\n",
    "draw_waves(DIRPATH, WAVE_LIST, PLOT_TIME_S, SEL_NRN)\n"
   ]
  }
 ],
 "metadata": {
  "kernelspec": {
   "display_name": "bioemus",
   "language": "python",
   "name": "python3"
  },
  "language_info": {
   "codemirror_mode": {
    "name": "ipython",
    "version": 3
   },
   "file_extension": ".py",
   "mimetype": "text/x-python",
   "name": "python",
   "nbconvert_exporter": "python",
   "pygments_lexer": "ipython3",
   "version": "3.12.5"
  }
 },
 "nbformat": 4,
 "nbformat_minor": 2
}
